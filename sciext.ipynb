{
 "cells": [
  {
   "cell_type": "markdown",
   "metadata": {},
   "source": [
    "# SciExt Major Work: All code"
   ]
  },
  {
   "cell_type": "code",
   "execution_count": 1,
   "metadata": {},
   "outputs": [],
   "source": [
    "# importing libraries\n",
    "import numpy as np\n",
    "import matplotlib\n",
    "matplotlib.use('Qt5Agg')\n",
    "import matplotlib.pyplot as plt\n",
    "import pathlib\n",
    "import PyQt5\n",
    "import mne\n",
    "import mne_bids\n",
    "mne.set_log_level('warning')\n",
    "\n",
    "from autoreject import AutoReject\n",
    "import json\n",
    "import scipy.io\n",
    "import pandas as pd"
   ]
  },
  {
   "cell_type": "code",
   "execution_count": 2,
   "metadata": {},
   "outputs": [
    {
     "name": "stdout",
     "output_type": "stream",
     "text": [
      "/Volumes/big_boi/scix/ds004515\n"
     ]
    }
   ],
   "source": [
    "cd /Volumes/big_boi/scix/ds004515"
   ]
  },
  {
   "cell_type": "markdown",
   "metadata": {},
   "source": [
    "## Scientific Research Proposal"
   ]
  },
  {
   "cell_type": "markdown",
   "metadata": {},
   "source": [
    "### Part C: Data Collection and Cleansing Methodology"
   ]
  },
  {
   "cell_type": "markdown",
   "metadata": {},
   "source": [
    "#### 1. Data Collection\n",
    "Filtering is the process of reducing the power of the signal at frequencies above and below range of experimental interest with the aim of reducing noise with minimal impact on the signal. This occurs during both data collection and cleansing.\n",
    "\n",
    "The filtering that occurs during data collection, EEG amplifier will have a low pass filter cutoff i.e. filter that cuts off frequencies above a certain threshold\n",
    "Rationale: aliasing, a phenomenon where a high-frequency signal is sampled at a rate lower than the frequency of the signal, hence an artifact is produced at a lower frequency than the true high frequency source.\n",
    "\n",
    "E.g. electromagnetic noise at 1400Hz, which the EEG amplifier (with a low pass filter cutoff set at, say, 500Hz) cannot detect. 2.8 oscillations would occur between each sample. 1400 not a multiple of 500, hence each sample captures a different phase of the 1400Hz oscillation, which put together look like a lower frequency oscillation. \n",
    "\n",
    "Therefore the highest frequency that can be accurately recorded at a given sampling rate is the Nyquist frequency, defined as ⅓ the sampling rate.\n",
    "Online filtering = EEG hardware automatically low-pass filters data as it is recorded at threshold determined by hardware engineers to prevent aliasing.\n"
   ]
  },
  {
   "cell_type": "markdown",
   "metadata": {},
   "source": [
    "**Importing the data**  \n",
    "The data is from a system sold by Brain Products which uses a software called Brain Vision. Each dataset has three files:\n",
    "1. .eeg is the actual EEG data - electrical potential measurements for all electrodes at all time points - stored in compressed (binary) format\n",
    "2. .vmrk is a text file containing markers (trigger codes) which encode the onset of various stimuli, times of responses by the participant, and what the stimuli/responses were.\n",
    "3. .vhdr is a text file with metadata - technical details include sampling rate, settings of EEG amplifier during recording.  \n",
    "\n",
    "Importing the data entails representing the raw EEG data as an MNE Raw object in Python."
   ]
  },
  {
   "cell_type": "code",
   "execution_count": 3,
   "metadata": {},
   "outputs": [],
   "source": [
    "data_dir = \"sub-001/eeg/\"\n",
    "p_file = \"sub-001/eeg/sub-001_task-ProbabilisticSelection_eeg.set\"\n",
    "p_id = \"sub-001\""
   ]
  },
  {
   "cell_type": "code",
   "execution_count": 4,
   "metadata": {},
   "outputs": [
    {
     "name": "stderr",
     "output_type": "stream",
     "text": [
      "/var/folders/sf/ns35g2p52qn763j7_gtvn4z00000gn/T/ipykernel_52717/2104176227.py:2: RuntimeWarning: The data contains 'boundary' events, indicating data discontinuities. Be cautious of filtering and epoching around these events.\n",
      "  raw = mne.io.read_raw_eeglab(raw_file, eog=(\"Below Eye\", \"Above Eye\"), preload=True) # .set file is passed\n",
      "/var/folders/sf/ns35g2p52qn763j7_gtvn4z00000gn/T/ipykernel_52717/2104176227.py:2: RuntimeWarning: Not setting positions of 2 eog channels found in montage:\n",
      "['Below Eye', 'Above Eye']\n",
      "Consider setting the channel types to be of EEG/sEEG/ECoG/DBS/fNIRS using inst.set_channel_types before calling inst.set_montage, or omit these channels when creating your montage.\n",
      "  raw = mne.io.read_raw_eeglab(raw_file, eog=(\"Below Eye\", \"Above Eye\"), preload=True) # .set file is passed\n"
     ]
    }
   ],
   "source": [
    "raw_file = p_file\n",
    "raw = mne.io.read_raw_eeglab(raw_file, eog=(\"Below Eye\", \"Above Eye\"), preload=True) # .set file is passed"
   ]
  },
  {
   "cell_type": "markdown",
   "metadata": {},
   "source": [
    "**Exploring the data**  \n",
    "Viewing the basic information and attributes of the raw dataset indicate that:\n",
    "- there are 63 channels (each with data from one electrode)\n",
    "- sampling rate is 500Hz (EEG data was sampled 500 times per second, or once every 2ms)\n",
    "- during data collection, data was filtered between 0.02-250Hz.\n",
    "- duration of data collection was 24min 28sec"
   ]
  },
  {
   "cell_type": "code",
   "execution_count": 5,
   "metadata": {},
   "outputs": [
    {
     "data": {
      "text/html": [
       "<details open>\n",
       "    <summary><strong>General</strong></summary>\n",
       "    <table class=\"table table-hover table-striped table-sm table-responsive small\">\n",
       "        <tr>\n",
       "            <th>Measurement date</th>\n",
       "            \n",
       "            <td>Unknown</td>\n",
       "            \n",
       "        </tr>\n",
       "        <tr>\n",
       "            <th>Experimenter</th>\n",
       "            \n",
       "            <td>Unknown</td>\n",
       "            \n",
       "        </tr>\n",
       "        <tr>\n",
       "            <th>Participant</th>\n",
       "            \n",
       "            <td>Unknown</td>\n",
       "            \n",
       "        </tr>\n",
       "    </table>\n",
       "    </details>\n",
       "    <details open>\n",
       "        <summary><strong>Channels</strong></summary>\n",
       "        <table class=\"table table-hover table-striped table-sm table-responsive small\">\n",
       "            <tr>\n",
       "                <th>Digitized points</th>\n",
       "                \n",
       "                <td>64 points</td>\n",
       "                \n",
       "            </tr>\n",
       "            <tr>\n",
       "                <th>Good channels</th>\n",
       "                <td>64 EEG, 2 EOG</td>\n",
       "            </tr>\n",
       "            <tr>\n",
       "                <th>Bad channels</th>\n",
       "                <td>None</td>\n",
       "            </tr>\n",
       "            <tr>\n",
       "                <th>EOG channels</th>\n",
       "                <td>Below Eye, Above Eye</td>\n",
       "            </tr>\n",
       "            <tr>\n",
       "                <th>ECG channels</th>\n",
       "                <td>Not available</td>\n",
       "            </tr>\n",
       "        </table>\n",
       "        </details>\n",
       "        <details open>\n",
       "            <summary><strong>Data</strong></summary>\n",
       "            <table class=\"table table-hover table-striped table-sm table-responsive small\">\n",
       "                \n",
       "                <tr>\n",
       "                    <th>Sampling frequency</th>\n",
       "                    <td>500.00 Hz</td>\n",
       "                </tr>\n",
       "                \n",
       "                \n",
       "                <tr>\n",
       "                    <th>Highpass</th>\n",
       "                    <td>0.00 Hz</td>\n",
       "                </tr>\n",
       "                \n",
       "                \n",
       "                <tr>\n",
       "                    <th>Lowpass</th>\n",
       "                    <td>250.00 Hz</td>\n",
       "                </tr>\n",
       "                \n",
       "                \n",
       "                \n",
       "                \n",
       "            </table>\n",
       "            </details>"
      ],
      "text/plain": [
       "<Info | 8 non-empty values\n",
       " bads: []\n",
       " ch_names: Fp1, Fz, F3, F7, Below Eye, FC5, FC1, C3, T7, Left Mastoid, CP5, ...\n",
       " chs: 64 EEG, 2 EOG\n",
       " custom_ref_applied: False\n",
       " dig: 64 items (64 EEG)\n",
       " highpass: 0.0 Hz\n",
       " lowpass: 250.0 Hz\n",
       " meas_date: unspecified\n",
       " nchan: 66\n",
       " projs: []\n",
       " sfreq: 500.0 Hz\n",
       ">"
      ]
     },
     "execution_count": 5,
     "metadata": {},
     "output_type": "execute_result"
    }
   ],
   "source": [
    "raw.info # outputs basic information about dataset from metadata file"
   ]
  },
  {
   "cell_type": "code",
   "execution_count": 6,
   "metadata": {},
   "outputs": [
    {
     "name": "stdout",
     "output_type": "stream",
     "text": [
      "<RawEEGLAB | sub-001_task-ProbabilisticSelection_eeg.fdt, 66 x 812450 (1624.9 s), ~409.2 MB, data loaded>\n",
      "ch  name           type  unit        min         Q1     median         Q3        max\n",
      " 0  Fp1            EEG   µV     -9804.15   -8422.35   -6821.58   -5065.97   -4138.48\n",
      " 1  Fz             EEG   µV       234.62     690.82    1449.71    2359.91    3122.80\n",
      " 2  F3             EEG   µV     -5351.95   -4043.64   -2515.58    -903.17     372.66\n",
      " 3  F7             EEG   µV    -15589.50  -14446.88  -13120.85  -12000.31  -10314.01\n",
      " 4  Below Eye      EOG   µV    -15176.90  -14290.58  -13631.35  -13194.92   -9724.90\n",
      " 5  FC5            EEG   µV    -10571.92  -10006.01   -9495.21   -8543.90   -7459.91\n",
      " 6  FC1            EEG   µV      3840.97    4120.90    4444.19    4577.78    4825.83\n",
      " 7  C3             EEG   µV    -11807.03  -11208.69  -10368.85   -9292.53   -8008.79\n",
      " 8  T7             EEG   µV     -2740.72   -1396.88    -138.23     917.87    2184.67\n",
      " 9  Left Mastoid   EEG   µV    -16186.23  -15678.81  -15008.15  -14859.57  -13217.77\n",
      "10  CP5            EEG   µV    -412580.66  -411759.91  -411164.97  -410716.41  -409719.19\n",
      "11  CP1            EEG   µV    -11640.28  -10959.67  -10275.54   -9607.23   -9139.75\n",
      "12  Pz             EEG   µV     -4043.60   -3543.26   -2822.80   -2205.47   -1512.35\n",
      "13  P3             EEG   µV    -12927.00  -12202.54  -11337.11  -10609.03   -9683.35\n",
      "14  P7             EEG   µV     -2168.95   -1216.75    -429.49     474.95    1308.69\n",
      "15  O1             EEG   µV      4333.20    4818.41    5113.48    5408.15    5813.04\n",
      "16  Oz             EEG   µV      6707.52    7015.28    7065.53    7106.49    7398.10\n",
      "17  O2             EEG   µV       632.71     854.83    1027.83    1350.15    1907.32\n",
      "18  P4             EEG   µV    -10966.60  -10303.76   -9439.89   -8530.09   -7433.94\n",
      "19  P8             EEG   µV      1681.69    2412.70    2595.36    2750.98    3013.13\n",
      "20  Right Mastoid  EEG   µV    -16389.94  -15810.16  -15250.73  -14805.81   -2696.92\n",
      "21  CP6            EEG   µV     -7654.64   -6424.94   -4922.22   -3698.58   -2106.25\n",
      "22  CP2            EEG   µV      1171.97    1698.10    2549.51    3303.54    4615.04\n",
      "23  Cz             EEG   µV     -4364.50   -4005.27   -3945.95   -3906.59   -3716.36\n",
      "24  C4             EEG   µV       224.95     968.41    1958.59    2770.20    3626.37\n",
      "25  T8             EEG   µV    -10209.18   -9318.36   -8410.01   -7583.01   -6636.04\n",
      "26  Above Eye      EOG   µV    -15455.57  -14667.24  -14487.06  -14355.91  -10000.68\n",
      "27  FC6            EEG   µV     -8820.26   -8124.32   -7024.95   -6174.41   -5326.32\n",
      "28  FC2            EEG   µV      -820.51     -72.66     939.43    1663.04    2519.24\n",
      "29  F4             EEG   µV    -16041.75  -15633.54  -14787.40  -13925.63  -12963.13\n",
      "30  F8             EEG   µV    -10721.39  -10306.88   -9460.69   -8743.02   -7095.95\n",
      "31  Fp2            EEG   µV    -36808.64  -34341.16  -31425.49  -29109.91  -24723.54\n",
      "32  AF7            EEG   µV    -27422.07  -27062.45  -26595.58  -17211.78  -14564.60\n",
      "33  AF3            EEG   µV    -14036.13  -12809.42  -11422.90  -10220.23   -8932.62\n",
      "34  AFz            EEG   µV     -3619.68   -3085.01   -2265.19   -1746.44   -1126.56\n",
      "35  F1             EEG   µV     -3689.75   -3033.73   -2001.22   -1041.75    -186.96\n",
      "36  F5             EEG   µV    -22460.94  -21208.84  -20175.88  -18947.36  -18185.55\n",
      "37  FT7            EEG   µV     -4819.14   -4044.97   -3004.49   -1659.33    -355.76\n",
      "38  FC3            EEG   µV     -2153.76   -1202.78    -369.19     512.34    1084.86\n",
      "39  FCz            EEG   µV     -9130.57   -7713.17   -5797.36   -4184.13   -2985.89\n",
      "40  C1             EEG   µV     -5938.38   -4931.53   -3581.52   -2400.50   -1282.23\n",
      "41  C5             EEG   µV    -14752.05  -14026.61  -13210.89  -12418.65  -11221.97\n",
      "42  TP7            EEG   µV     -2617.38   -1674.76    -983.30    -336.23     317.82\n",
      "43  CP3            EEG   µV      -179.25     557.28    1499.46    2293.85    3196.14\n",
      "44  P1             EEG   µV    -14594.43  -13661.52  -12537.30  -11345.23  -10074.07\n",
      "45  P5             EEG   µV       880.47    1575.54    2012.74    2436.87    2788.43\n",
      "46  PO7            EEG   µV    -12928.12  -11883.35  -10835.60   -9871.79   -8767.58\n",
      "47  PO3            EEG   µV       578.56    1476.17    2218.55    2879.44    3617.77\n",
      "48  POz            EEG   µV     -3459.62   -2681.01   -1581.79    -895.85    -114.11\n",
      "49  PO4            EEG   µV     -5964.89   -4661.52   -3405.66   -2191.94    -902.49\n",
      "50  PO8            EEG   µV      -263.13     671.58    1451.17    2094.04    2967.92\n",
      "51  P6             EEG   µV     -5060.30   -4406.93   -3704.35   -3089.94   -2056.01\n",
      "52  P2             EEG   µV     -7229.25   -6887.89   -6103.81   -5173.24   -4548.78\n",
      "53  CP4            EEG   µV    -11778.32  -11370.61  -10565.97   -9925.78   -8674.61\n",
      "54  TP8            EEG   µV    -13686.62  -12692.33  -11804.69  -11028.61   -9919.24\n",
      "55  C6             EEG   µV     -3583.59   -2402.54   -1208.35    -141.70     842.53\n",
      "56  C2             EEG   µV     -7916.21   -7500.63   -6933.01   -6053.91   -5262.40\n",
      "57  FC4            EEG   µV     -1873.05    -963.53       5.03     847.75    1556.98\n",
      "58  FT8            EEG   µV    -16423.05  -15107.17  -13867.43  -12637.26  -11433.35\n",
      "59  F6             EEG   µV    -13213.57  -12619.23  -11864.31  -11021.48   -9797.22\n",
      "60  F2             EEG   µV    -11309.52  -10836.77  -10076.07   -9183.84   -8065.48\n",
      "61  AF4            EEG   µV    -13604.88  -13160.99  -12499.12  -11916.71  -10968.80\n",
      "62  AF8            EEG   µV    -26817.24  -25962.79  -25771.00  -25489.99  -15672.07\n",
      "63  Empty          EEG   µV     11352.60   12255.91   12380.18   12506.84   12998.58\n",
      "64  EKG            EEG   µV    -495879.34  1778528.19  1837259.19  1898055.31  2996516.25\n",
      "65  AudioOutput    EEG   µV    -16493.50    2020.00    2748.37    3476.14   16914.01\n"
     ]
    }
   ],
   "source": [
    "raw.describe()"
   ]
  },
  {
   "cell_type": "markdown",
   "metadata": {},
   "source": [
    "Set channel types:"
   ]
  },
  {
   "cell_type": "code",
   "execution_count": 7,
   "metadata": {},
   "outputs": [
    {
     "name": "stderr",
     "output_type": "stream",
     "text": [
      "/var/folders/sf/ns35g2p52qn763j7_gtvn4z00000gn/T/ipykernel_52717/1586516277.py:1: RuntimeWarning: The unit for channel(s) AudioOutput, Empty has changed from V to NA.\n",
      "  raw.set_channel_types(\n"
     ]
    },
    {
     "data": {
      "text/html": [
       "<details open>\n",
       "    <summary><strong>General</strong></summary>\n",
       "    <table class=\"table table-hover table-striped table-sm table-responsive small\">\n",
       "        <tr>\n",
       "            <th>Measurement date</th>\n",
       "            \n",
       "            <td>Unknown</td>\n",
       "            \n",
       "        </tr>\n",
       "        <tr>\n",
       "            <th>Experimenter</th>\n",
       "            \n",
       "            <td>Unknown</td>\n",
       "            \n",
       "        </tr>\n",
       "        <tr>\n",
       "            <th>Participant</th>\n",
       "            \n",
       "            <td>Unknown</td>\n",
       "            \n",
       "        </tr>\n",
       "    </table>\n",
       "    </details>\n",
       "    <details open>\n",
       "        <summary><strong>Channels</strong></summary>\n",
       "        <table class=\"table table-hover table-striped table-sm table-responsive small\">\n",
       "            <tr>\n",
       "                <th>Digitized points</th>\n",
       "                \n",
       "                <td>64 points</td>\n",
       "                \n",
       "            </tr>\n",
       "            <tr>\n",
       "                <th>Good channels</th>\n",
       "                <td>61 EEG, 2 EOG, 2 misc, 1 ECG</td>\n",
       "            </tr>\n",
       "            <tr>\n",
       "                <th>Bad channels</th>\n",
       "                <td>None</td>\n",
       "            </tr>\n",
       "            <tr>\n",
       "                <th>EOG channels</th>\n",
       "                <td>Below Eye, Above Eye</td>\n",
       "            </tr>\n",
       "            <tr>\n",
       "                <th>ECG channels</th>\n",
       "                <td>EKG</td>\n",
       "            </tr>\n",
       "        </table>\n",
       "        </details>\n",
       "        <details open>\n",
       "            <summary><strong>Data</strong></summary>\n",
       "            <table class=\"table table-hover table-striped table-sm table-responsive small\">\n",
       "                \n",
       "                <tr>\n",
       "                    <th>Sampling frequency</th>\n",
       "                    <td>500.00 Hz</td>\n",
       "                </tr>\n",
       "                \n",
       "                \n",
       "                <tr>\n",
       "                    <th>Highpass</th>\n",
       "                    <td>0.00 Hz</td>\n",
       "                </tr>\n",
       "                \n",
       "                \n",
       "                <tr>\n",
       "                    <th>Lowpass</th>\n",
       "                    <td>250.00 Hz</td>\n",
       "                </tr>\n",
       "                \n",
       "                \n",
       "                \n",
       "                <tr>\n",
       "                    <th>Filenames</th>\n",
       "                    <td>sub-001_task-ProbabilisticSelection_eeg.fdt</td>\n",
       "                </tr>\n",
       "                \n",
       "                \n",
       "                <tr>\n",
       "                    <th>Duration</th>\n",
       "                    <td>00:27:05 (HH:MM:SS)</td>\n",
       "                </tr>\n",
       "                \n",
       "            </table>\n",
       "            </details>"
      ],
      "text/plain": [
       "<RawEEGLAB | sub-001_task-ProbabilisticSelection_eeg.fdt, 66 x 812450 (1624.9 s), ~409.2 MB, data loaded>"
      ]
     },
     "execution_count": 7,
     "metadata": {},
     "output_type": "execute_result"
    }
   ],
   "source": [
    "raw.set_channel_types(\n",
    "    {\n",
    "        'Empty':'misc',\n",
    "        'EKG':'ecg',\n",
    "        'AudioOutput':'misc'\n",
    "    }\n",
    ")"
   ]
  },
  {
   "cell_type": "markdown",
   "metadata": {},
   "source": [
    "Change names of left and right mastoids back to 'TP9' and 'TP10'"
   ]
  },
  {
   "cell_type": "code",
   "execution_count": 8,
   "metadata": {},
   "outputs": [],
   "source": [
    "mne.rename_channels(raw.info, {\n",
    "  'Left Mastoid':'TP9',\n",
    "  'Right Mastoid':'TP10'\n",
    "  })"
   ]
  },
  {
   "cell_type": "markdown",
   "metadata": {},
   "source": [
    "Further information can be gleaned about the dataset:\n",
    "- the data type of raw data is a Numpy array\n",
    "- it contains 64 EEG channels + 2 EOG channels and 812,450 time points"
   ]
  },
  {
   "cell_type": "code",
   "execution_count": 9,
   "metadata": {},
   "outputs": [
    {
     "name": "stdout",
     "output_type": "stream",
     "text": [
      "dict_keys(['acq_pars', 'acq_stim', 'ctf_head_t', 'description', 'dev_ctf_t', 'dig', 'experimenter', 'utc_offset', 'device_info', 'file_id', 'highpass', 'hpi_subsystem', 'kit_system_id', 'helium_info', 'line_freq', 'lowpass', 'meas_date', 'meas_id', 'proj_id', 'proj_name', 'subject_info', 'xplotter_layout', 'gantry_angle', 'bads', 'chs', 'comps', 'events', 'hpi_meas', 'hpi_results', 'projs', 'proc_history', 'custom_ref_applied', 'sfreq', 'dev_head_t', 'ch_names', 'nchan'])\n",
      "['Fp1', 'Fz', 'F3', 'F7', 'Below Eye', 'FC5', 'FC1', 'C3', 'T7', 'TP9', 'CP5', 'CP1', 'Pz', 'P3', 'P7', 'O1', 'Oz', 'O2', 'P4', 'P8', 'TP10', 'CP6', 'CP2', 'Cz', 'C4', 'T8', 'Above Eye', 'FC6', 'FC2', 'F4', 'F8', 'Fp2', 'AF7', 'AF3', 'AFz', 'F1', 'F5', 'FT7', 'FC3', 'FCz', 'C1', 'C5', 'TP7', 'CP3', 'P1', 'P5', 'PO7', 'PO3', 'POz', 'PO4', 'PO8', 'P6', 'P2', 'CP4', 'TP8', 'C6', 'C2', 'FC4', 'FT8', 'F6', 'F2', 'AF4', 'AF8', 'Empty', 'EKG', 'AudioOutput']\n",
      "{'loc': array([nan, nan, nan, nan, nan, nan, nan, nan, nan, nan, nan, nan]), 'unit_mul': 0 (FIFF_UNITM_NONE), 'range': 1.0, 'cal': 1e-06, 'kind': 2 (FIFFV_EEG_CH), 'coil_type': 1 (FIFFV_COIL_EEG), 'unit': 107 (FIFF_UNIT_V), 'coord_frame': 4 (FIFFV_COORD_HEAD), 'ch_name': 'Fp1', 'scanno': 1, 'logno': 1}\n",
      "[]\n",
      "<class 'numpy.ndarray'>\n",
      "(66, 812450)\n",
      "60.0\n"
     ]
    }
   ],
   "source": [
    "# accessing further info\n",
    "print(raw.info.keys()) # lists more data attributes\n",
    "print(raw.info['ch_names']) # names of each channel/electrode as per the 10-20 international system\n",
    "print(raw.info['chs'][0]) # info about each channel\n",
    "print(raw.info['bads'])\n",
    "\n",
    "# dimensions of data\n",
    "print(type(raw._data)) # data type of dataset\n",
    "print(raw._data.shape)\n",
    "\n",
    "# set power line frequency to 60Hz\n",
    "raw.info['line_freq'] = 60\n",
    "print(raw.info['line_freq'])"
   ]
  },
  {
   "cell_type": "markdown",
   "metadata": {},
   "source": [
    "#### 2. Cleansing/pre-processing"
   ]
  },
  {
   "cell_type": "markdown",
   "metadata": {},
   "source": [
    "##### (a) Importing channel location information"
   ]
  },
  {
   "cell_type": "code",
   "execution_count": 10,
   "metadata": {},
   "outputs": [],
   "source": [
    "## raw.plot_sensors(show_names=True)"
   ]
  },
  {
   "cell_type": "markdown",
   "metadata": {},
   "source": [
    "A montage is the set of coordinates for each channel. In this case, this needs to be set to the 10-20 international system.\n",
    "This enables us to plot the locations of channels on the scalp in a 3D Cartesian coordinate system, which is useful for visualising EEG data."
   ]
  },
  {
   "cell_type": "code",
   "execution_count": 11,
   "metadata": {},
   "outputs": [
    {
     "data": {
      "text/html": [
       "<details open>\n",
       "    <summary><strong>General</strong></summary>\n",
       "    <table class=\"table table-hover table-striped table-sm table-responsive small\">\n",
       "        <tr>\n",
       "            <th>Measurement date</th>\n",
       "            \n",
       "            <td>Unknown</td>\n",
       "            \n",
       "        </tr>\n",
       "        <tr>\n",
       "            <th>Experimenter</th>\n",
       "            \n",
       "            <td>Unknown</td>\n",
       "            \n",
       "        </tr>\n",
       "        <tr>\n",
       "            <th>Participant</th>\n",
       "            \n",
       "            <td>Unknown</td>\n",
       "            \n",
       "        </tr>\n",
       "    </table>\n",
       "    </details>\n",
       "    <details open>\n",
       "        <summary><strong>Channels</strong></summary>\n",
       "        <table class=\"table table-hover table-striped table-sm table-responsive small\">\n",
       "            <tr>\n",
       "                <th>Digitized points</th>\n",
       "                \n",
       "                <td>64 points</td>\n",
       "                \n",
       "            </tr>\n",
       "            <tr>\n",
       "                <th>Good channels</th>\n",
       "                <td>61 EEG, 2 EOG, 2 misc, 1 ECG</td>\n",
       "            </tr>\n",
       "            <tr>\n",
       "                <th>Bad channels</th>\n",
       "                <td>None</td>\n",
       "            </tr>\n",
       "            <tr>\n",
       "                <th>EOG channels</th>\n",
       "                <td>Below Eye, Above Eye</td>\n",
       "            </tr>\n",
       "            <tr>\n",
       "                <th>ECG channels</th>\n",
       "                <td>EKG</td>\n",
       "            </tr>\n",
       "        </table>\n",
       "        </details>\n",
       "        <details open>\n",
       "            <summary><strong>Data</strong></summary>\n",
       "            <table class=\"table table-hover table-striped table-sm table-responsive small\">\n",
       "                \n",
       "                <tr>\n",
       "                    <th>Sampling frequency</th>\n",
       "                    <td>500.00 Hz</td>\n",
       "                </tr>\n",
       "                \n",
       "                \n",
       "                <tr>\n",
       "                    <th>Highpass</th>\n",
       "                    <td>0.00 Hz</td>\n",
       "                </tr>\n",
       "                \n",
       "                \n",
       "                <tr>\n",
       "                    <th>Lowpass</th>\n",
       "                    <td>250.00 Hz</td>\n",
       "                </tr>\n",
       "                \n",
       "                \n",
       "                \n",
       "                <tr>\n",
       "                    <th>Filenames</th>\n",
       "                    <td>sub-001_task-ProbabilisticSelection_eeg.fdt</td>\n",
       "                </tr>\n",
       "                \n",
       "                \n",
       "                <tr>\n",
       "                    <th>Duration</th>\n",
       "                    <td>00:27:05 (HH:MM:SS)</td>\n",
       "                </tr>\n",
       "                \n",
       "            </table>\n",
       "            </details>"
      ],
      "text/plain": [
       "<RawEEGLAB | sub-001_task-ProbabilisticSelection_eeg.fdt, 66 x 812450 (1624.9 s), ~409.2 MB, data loaded>"
      ]
     },
     "execution_count": 11,
     "metadata": {},
     "output_type": "execute_result"
    }
   ],
   "source": [
    "montage = mne.channels.make_standard_montage('standard_1020')\n",
    "kept_channels = ['Fp1', 'Fz', 'F3', 'F7', 'FC5', 'FC1', 'C3', 'T7', 'CP5', 'CP1', 'Pz',\n",
    "                 'P3', 'P7', 'O1', 'Oz', 'O2', 'P4', 'P8', 'CP6', 'CP2', 'Cz', 'C4', 'T8',\n",
    "                 'FC6', 'FC2', 'F4', 'F8', 'Fp2', 'AF7', 'AF3', 'AFz', 'F1', 'F5', 'FT7',\n",
    "                 'FC3', 'FCz', 'C1', 'C5', 'TP7', 'CP3', 'P1', 'P5', 'PO7', 'PO3', 'POz',\n",
    "                 'PO4', 'PO8', 'P6', 'P2', 'CP4', 'TP8', 'C6', 'C2', 'FC4', 'FT8', 'F6', 'F2',\n",
    "                 'AF4', 'AF8', 'TP9', 'TP10']\n",
    "ind = [i for (i, channel) in enumerate(montage.ch_names) if channel in kept_channels]\n",
    "montage_new = montage.copy()\n",
    "montage_new.ch_names = [montage.ch_names[x] for x in ind]\n",
    "kept_channel_info = [montage.dig[x+3] for x in ind]\n",
    "montage_new.dig = montage.dig[0:3]+kept_channel_info\n",
    "## montage_new.plot();\n",
    "\n",
    "# load montage\n",
    "raw.set_montage(montage_new, on_missing='ignore')\n",
    "## fig = raw.plot_sensors(show_names=True);"
   ]
  },
  {
   "cell_type": "markdown",
   "metadata": {},
   "source": [
    "This location information was stored in the 'dig' attribute of the raw data. Each electrode location is represented as a set of 3D Cartesian coordinates in the form (x,y,z) where x is left-right axis, y is posterior-anterior (back to front) and z is inferior-superior (down to up).  \n",
    "The order of channel locations corresponds to the order of labels in the list of channel names. "
   ]
  },
  {
   "cell_type": "code",
   "execution_count": 12,
   "metadata": {},
   "outputs": [
    {
     "data": {
      "text/plain": [
       "[<DigPoint |        LPA : (-82.5, -0.0, 0.0) mm     : head frame>,\n",
       " <DigPoint |     Nasion : (0.0, 114.0, 0.0) mm      : head frame>,\n",
       " <DigPoint |        RPA : (82.5, 0.0, -0.0) mm      : head frame>,\n",
       " <DigPoint |     EEG #1 : (-30.9, 114.6, 27.9) mm   : head frame>,\n",
       " <DigPoint |     EEG #3 : (28.4, 115.3, 27.7) mm    : head frame>,\n",
       " <DigPoint |     EEG #5 : (-56.4, 99.2, 25.1) mm    : head frame>,\n",
       " <DigPoint |     EEG #7 : (-35.2, 109.1, 56.4) mm   : head frame>,\n",
       " <DigPoint |     EEG #9 : (-1.2, 113.7, 70.4) mm    : head frame>,\n",
       " <DigPoint |    EEG #11 : (34.2, 109.8, 57.1) mm    : head frame>,\n",
       " <DigPoint |    EEG #13 : (54.2, 99.8, 24.9) mm     : head frame>,\n",
       " <DigPoint |    EEG #16 : (-71.9, 73.1, 25.8) mm    : head frame>,\n",
       " <DigPoint |    EEG #17 : (-66.1, 80.2, 53.8) mm    : head frame>,\n",
       " <DigPoint |    EEG #18 : (-51.8, 86.7, 78.7) mm    : head frame>,\n",
       " <DigPoint |    EEG #19 : (-29.0, 91.4, 96.6) mm    : head frame>,\n",
       " <DigPoint |    EEG #20 : (-1.2, 93.3, 102.6) mm    : head frame>,\n",
       " <DigPoint |    EEG #21 : (28.0, 91.9, 95.8) mm     : head frame>,\n",
       " <DigPoint |    EEG #22 : (50.3, 87.4, 77.3) mm     : head frame>,\n",
       " <DigPoint |    EEG #23 : (66.3, 81.5, 53.1) mm     : head frame>,\n",
       " <DigPoint |    EEG #24 : (71.4, 74.5, 25.1) mm     : head frame>,\n",
       " <DigPoint |    EEG #27 : (-82.5, 44.8, 27.7) mm    : head frame>,\n",
       " <DigPoint |    EEG #28 : (-78.9, 51.4, 63.0) mm    : head frame>,\n",
       " <DigPoint |    EEG #29 : (-61.9, 57.1, 93.8) mm    : head frame>,\n",
       " <DigPoint |    EEG #30 : (-35.7, 61.7, 118.0) mm   : head frame>,\n",
       " <DigPoint |    EEG #31 : (-1.3, 63.5, 126.6) mm    : head frame>,\n",
       " <DigPoint |    EEG #32 : (33.1, 61.8, 116.8) mm    : head frame>,\n",
       " <DigPoint |    EEG #33 : (60.6, 57.7, 93.8) mm     : head frame>,\n",
       " <DigPoint |    EEG #34 : (77.8, 52.1, 62.9) mm     : head frame>,\n",
       " <DigPoint |    EEG #35 : (80.1, 45.6, 27.4) mm     : head frame>,\n",
       " <DigPoint |    EEG #38 : (-86.0, 14.9, 31.2) mm    : head frame>,\n",
       " <DigPoint |    EEG #39 : (-82.1, 19.3, 69.5) mm    : head frame>,\n",
       " <DigPoint |    EEG #40 : (-67.1, 23.4, 104.5) mm   : head frame>,\n",
       " <DigPoint |    EEG #41 : (-37.9, 26.3, 129.8) mm   : head frame>,\n",
       " <DigPoint |    EEG #42 : (-1.4, 27.6, 140.2) mm    : head frame>,\n",
       " <DigPoint |    EEG #43 : (35.9, 26.4, 128.4) mm    : head frame>,\n",
       " <DigPoint |    EEG #44 : (65.3, 23.6, 103.7) mm    : head frame>,\n",
       " <DigPoint |    EEG #45 : (81.7, 19.7, 69.5) mm     : head frame>,\n",
       " <DigPoint |    EEG #46 : (83.3, 15.3, 31.0) mm     : head frame>,\n",
       " <DigPoint |    EEG #48 : (-87.6, -17.6, -3.4) mm   : head frame>,\n",
       " <DigPoint |    EEG #49 : (-86.8, -15.0, 35.2) mm   : head frame>,\n",
       " <DigPoint |    EEG #50 : (-81.5, -13.3, 73.1) mm   : head frame>,\n",
       " <DigPoint |    EEG #51 : (-65.5, -11.9, 107.8) mm  : head frame>,\n",
       " <DigPoint |    EEG #52 : (-37.4, -10.8, 133.4) mm  : head frame>,\n",
       " <DigPoint |    EEG #54 : (36.5, -10.9, 132.8) mm   : head frame>,\n",
       " <DigPoint |    EEG #55 : (64.7, -12.0, 107.7) mm   : head frame>,\n",
       " <DigPoint |    EEG #56 : (81.4, -13.5, 73.4) mm    : head frame>,\n",
       " <DigPoint |    EEG #57 : (83.6, -15.1, 35.1) mm    : head frame>,\n",
       " <DigPoint |    EEG #58 : (84.2, -18.8, -3.5) mm    : head frame>,\n",
       " <DigPoint |    EEG #60 : (-74.5, -42.1, 41.3) mm   : head frame>,\n",
       " <DigPoint |    EEG #61 : (-69.3, -43.2, 72.3) mm   : head frame>,\n",
       " <DigPoint |    EEG #62 : (-55.0, -44.2, 99.9) mm   : head frame>,\n",
       " <DigPoint |    EEG #63 : (-30.7, -44.9, 119.5) mm  : head frame>,\n",
       " <DigPoint |    EEG #64 : (-1.7, -45.2, 126.7) mm   : head frame>,\n",
       " <DigPoint |    EEG #65 : (29.9, -45.0, 120.7) mm   : head frame>,\n",
       " <DigPoint |    EEG #66 : (53.6, -44.3, 100.5) mm   : head frame>,\n",
       " <DigPoint |    EEG #67 : (65.9, -43.3, 71.9) mm    : head frame>,\n",
       " <DigPoint |    EEG #68 : (71.0, -42.3, 41.2) mm    : head frame>,\n",
       " <DigPoint |    EEG #71 : (-56.9, -65.9, 47.9) mm   : head frame>,\n",
       " <DigPoint |    EEG #73 : (-38.6, -67.4, 82.4) mm   : head frame>,\n",
       " <DigPoint |    EEG #75 : (-1.9, -68.1, 95.9) mm    : head frame>,\n",
       " <DigPoint |    EEG #77 : (34.7, -67.7, 81.6) mm    : head frame>,\n",
       " <DigPoint |    EEG #79 : (53.6, -66.4, 47.9) mm    : head frame>,\n",
       " <DigPoint |    EEG #81 : (-31.6, -80.6, 54.8) mm   : head frame>,\n",
       " <DigPoint |    EEG #82 : (-2.1, -82.8, 60.7) mm    : head frame>,\n",
       " <DigPoint |    EEG #83 : (27.7, -80.5, 54.7) mm    : head frame>]"
      ]
     },
     "execution_count": 12,
     "metadata": {},
     "output_type": "execute_result"
    }
   ],
   "source": [
    "raw.info['dig']"
   ]
  },
  {
   "cell_type": "markdown",
   "metadata": {},
   "source": [
    "##### (b) Importing event codes (markers/triggers)\n",
    "mark times of events of experimental interest. \n",
    "\n",
    "first output is NumPy array with three columns, one row for each event code. first column indicates time of event (units of samples), last column stores code (represented as integer) associated with this event."
   ]
  },
  {
   "cell_type": "code",
   "execution_count": 13,
   "metadata": {},
   "outputs": [
    {
     "data": {
      "text/plain": [
       "OrderedDict([('onset', 100.858),\n",
       "             ('duration', 0.002),\n",
       "             ('description', 'S111'),\n",
       "             ('orig_time', None)])"
      ]
     },
     "execution_count": 13,
     "metadata": {},
     "output_type": "execute_result"
    }
   ],
   "source": [
    "raw.annotations[5]"
   ]
  },
  {
   "cell_type": "code",
   "execution_count": 14,
   "metadata": {},
   "outputs": [
    {
     "data": {
      "text/plain": [
       "array([[     0,      0,     16],\n",
       "       [ 23003,      0,     12],\n",
       "       [ 25409,      0,     12],\n",
       "       ...,\n",
       "       [763587,      0,     13],\n",
       "       [764937,      0,     13],\n",
       "       [766377,      0,     11]])"
      ]
     },
     "execution_count": 14,
     "metadata": {},
     "output_type": "execute_result"
    }
   ],
   "source": [
    "events, event_dict = mne.events_from_annotations(raw)\n",
    "events"
   ]
  },
  {
   "cell_type": "code",
   "execution_count": 15,
   "metadata": {},
   "outputs": [],
   "source": [
    "event_id = {\n",
    "    'Left Button': 1,\n",
    "    'Between trials': 2,\n",
    "    'Between trials': 3,\n",
    "    'Between trials': 4,\n",
    "    'Between trials': 5,\n",
    "    'Right Button': 6,\n",
    "    'FB: WIN PUPPY': 7,\n",
    "    'FB: LOSE PUPPY': 8,\n",
    "    'FB: WIN ALCOHOL': 9,\n",
    "    'FB: LOSE ALCOHOL': 10,\n",
    "    'After task': 11,\n",
    "    'Before task': 12,\n",
    "    'After task': 13,\n",
    "    'Puppy image': 14,\n",
    "    'Alcohol image': 15,\n",
    "    'STATUS': 16\n",
    "}"
   ]
  },
  {
   "cell_type": "code",
   "execution_count": 16,
   "metadata": {},
   "outputs": [
    {
     "name": "stderr",
     "output_type": "stream",
     "text": [
      "/var/folders/sf/ns35g2p52qn763j7_gtvn4z00000gn/T/ipykernel_52717/3940604650.py:1: RuntimeWarning: event 2 missing from event_id will be ignored\n",
      "  mne.viz.plot_events(events, event_id=event_id, sfreq=raw.info['sfreq'])\n",
      "/var/folders/sf/ns35g2p52qn763j7_gtvn4z00000gn/T/ipykernel_52717/3940604650.py:1: RuntimeWarning: event 3 missing from event_id will be ignored\n",
      "  mne.viz.plot_events(events, event_id=event_id, sfreq=raw.info['sfreq'])\n",
      "/var/folders/sf/ns35g2p52qn763j7_gtvn4z00000gn/T/ipykernel_52717/3940604650.py:1: RuntimeWarning: event 4 missing from event_id will be ignored\n",
      "  mne.viz.plot_events(events, event_id=event_id, sfreq=raw.info['sfreq'])\n",
      "/var/folders/sf/ns35g2p52qn763j7_gtvn4z00000gn/T/ipykernel_52717/3940604650.py:1: RuntimeWarning: event 11 missing from event_id will be ignored\n",
      "  mne.viz.plot_events(events, event_id=event_id, sfreq=raw.info['sfreq'])\n",
      "/var/folders/sf/ns35g2p52qn763j7_gtvn4z00000gn/T/ipykernel_52717/3940604650.py:1: RuntimeWarning: More events than default colors available. You should pass a list of unique colors.\n",
      "  mne.viz.plot_events(events, event_id=event_id, sfreq=raw.info['sfreq'])\n"
     ]
    },
    {
     "data": {
      "text/plain": [
       "<Figure size 640x480 with 1 Axes>"
      ]
     },
     "execution_count": 16,
     "metadata": {},
     "output_type": "execute_result"
    }
   ],
   "source": [
    "mne.viz.plot_events(events, event_id=event_id, sfreq=raw.info['sfreq'])"
   ]
  },
  {
   "cell_type": "markdown",
   "metadata": {},
   "source": [
    "##### (c) Filtering  \n",
    "Rationale: EEG researchers record with a wider range of filter settings to prevent distortions to data caused by cutoffs too close to range of frequencies of interest. Online filtering is not permanent, allowing different filter settings to be applied and the results of this observed.\n",
    "\n",
    "Band pass filter = filter cutoffs, high-pass of 0.1Hz, low-pass of 30Hz. This is the standard for ERP analysis since the high-pass cutoff needs to be lower by a factor of 10 than the lowest frequency of interest\n",
    "\n",
    "Needs to be applied first to the raw EEG data before it is divided into epochs → long segments of data needed to accurately estimate and remove low frequencies. Need at least 20-30s of data to remove frequencies below 0.1Hz (one cycle every 10s). A typical segment of data is 1-2s, so low frequencies cannot be removed from these."
   ]
  },
  {
   "cell_type": "markdown",
   "metadata": {},
   "source": [
    "**Crop + filter data**"
   ]
  },
  {
   "cell_type": "code",
   "execution_count": 17,
   "metadata": {},
   "outputs": [],
   "source": [
    "raw_cropped = raw.copy().crop(tmin=240, tmax=1400)\n",
    "raw_filt = raw_cropped.copy().filter(l_freq=0.01, h_freq=20)"
   ]
  },
  {
   "cell_type": "markdown",
   "metadata": {},
   "source": [
    "**Plot filtered data in time domain**"
   ]
  },
  {
   "cell_type": "code",
   "execution_count": 18,
   "metadata": {},
   "outputs": [],
   "source": [
    "## raw_filt.plot(events=events, event_id=event_id, title='Filtered');"
   ]
  },
  {
   "cell_type": "markdown",
   "metadata": {},
   "source": [
    "**Plot raw vs filtered data in frequency domain (power spectrum density)**"
   ]
  },
  {
   "cell_type": "code",
   "execution_count": 19,
   "metadata": {},
   "outputs": [],
   "source": [
    "## fig, ax = plt.subplots(2)\n",
    "## raw_cropped.plot_psd(ax=ax[0], show=False)\n",
    "## raw_filt.plot_psd(ax=ax[1], show=False)\n",
    "## ax[0].set_title('PSD before filtering')\n",
    "## ax[0].set_xlabel('Frequency (Hz)')\n",
    "## ax[1].set_title('PSD after filtering')\n",
    "## ax[1].set_xlabel('Frequency (Hz)')\n",
    "## fig.set_tight_layout(True)\n",
    "## plt.show()"
   ]
  },
  {
   "cell_type": "markdown",
   "metadata": {},
   "source": [
    "**Saving filtered data**"
   ]
  },
  {
   "cell_type": "code",
   "execution_count": 21,
   "metadata": {},
   "outputs": [],
   "source": [
    "raw.save(data_dir + p_id + '-raw.fif', overwrite=True)\n",
    "raw_filt.save(data_dir + p_id + '-filt-raw.fif', overwrite=True)"
   ]
  },
  {
   "cell_type": "markdown",
   "metadata": {},
   "source": [
    "##### (d) Segmenting data into epochs around ERPs"
   ]
  },
  {
   "cell_type": "markdown",
   "metadata": {},
   "source": [
    "**Specify ERP time frame**"
   ]
  },
  {
   "cell_type": "code",
   "execution_count": 22,
   "metadata": {},
   "outputs": [
    {
     "data": {
      "text/html": [
       "<table class=\"table table-hover table-striped table-sm table-responsive small\">\n",
       "    <tr>\n",
       "        <th>Number of events</th>\n",
       "        <td>520</td>\n",
       "    </tr>\n",
       "    <tr>\n",
       "        <th>Events</th>\n",
       "        \n",
       "        <td>After task: 0<br/>Alcohol image: 80<br/>Before task: 0<br/>Between trials: 40<br/>FB: LOSE ALCOHOL: 48<br/>FB: LOSE PUPPY: 43<br/>FB: WIN ALCOHOL: 32<br/>FB: WIN PUPPY: 37<br/>Left Button: 131<br/>Puppy image: 80<br/>Right Button: 29<br/>STATUS: 0</td>\n",
       "        \n",
       "    </tr>\n",
       "    <tr>\n",
       "        <th>Time range</th>\n",
       "        <td>-2.000 – 6.000 s</td>\n",
       "    </tr>\n",
       "    <tr>\n",
       "        <th>Baseline</th>\n",
       "        <td>-0.200 – 0.000 s</td>\n",
       "    </tr>\n",
       "</table>"
      ],
      "text/plain": [
       "<Epochs |  520 events (all good), -2 – 6 s, baseline -0.2 – 0 s, ~1.02 GB, data loaded,\n",
       " 'Left Button': 131\n",
       " 'Between trials': 40\n",
       " 'Right Button': 29\n",
       " 'FB: WIN PUPPY': 37\n",
       " 'FB: LOSE PUPPY': 43\n",
       " 'FB: WIN ALCOHOL': 32\n",
       " 'FB: LOSE ALCOHOL': 48\n",
       " 'After task': 0\n",
       " 'Before task': 0\n",
       " 'Puppy image': 80\n",
       " and 2 more events ...>"
      ]
     },
     "execution_count": 22,
     "metadata": {},
     "output_type": "execute_result"
    }
   ],
   "source": [
    "tmin = -2.0\n",
    "tmax = 6.0\n",
    "baseline = (-0.2, 0)\n",
    "\n",
    "epochs = mne.Epochs(raw_filt,\n",
    "                    events=events,\n",
    "                    event_id=event_id,\n",
    "                    tmin=tmin,\n",
    "                    tmax=tmax,\n",
    "                    baseline=baseline,\n",
    "                    preload=True)\n",
    "epochs"
   ]
  },
  {
   "cell_type": "code",
   "execution_count": 23,
   "metadata": {},
   "outputs": [],
   "source": [
    "## epochs.plot()"
   ]
  },
  {
   "cell_type": "markdown",
   "metadata": {},
   "source": [
    "**Selecting epochs based on experimental condition**"
   ]
  },
  {
   "cell_type": "code",
   "execution_count": 24,
   "metadata": {},
   "outputs": [],
   "source": [
    "## epochs['FB: WIN PUPPY'].plot_image()"
   ]
  },
  {
   "cell_type": "markdown",
   "metadata": {},
   "source": [
    "**Saving epochs**"
   ]
  },
  {
   "cell_type": "code",
   "execution_count": 26,
   "metadata": {},
   "outputs": [],
   "source": [
    "epochs.save(data_dir + p_id + '-epochs-epo.fif', overwrite=True)"
   ]
  },
  {
   "cell_type": "markdown",
   "metadata": {},
   "source": [
    "**Creating evoked data**"
   ]
  },
  {
   "cell_type": "code",
   "execution_count": 27,
   "metadata": {},
   "outputs": [],
   "source": [
    "evoked_winpuppy = epochs['FB: WIN PUPPY'].average()\n",
    "evoked_losepuppy = epochs['FB: LOSE PUPPY'].average()\n",
    "evoked_winalcohol = epochs['FB: WIN ALCOHOL'].average()\n",
    "evoked_losealcohol = epochs['FB: LOSE ALCOHOL'].average()"
   ]
  },
  {
   "cell_type": "code",
   "execution_count": null,
   "metadata": {},
   "outputs": [],
   "source": [
    "## evoked_winpuppy.plot(spatial_colors=True)"
   ]
  },
  {
   "cell_type": "code",
   "execution_count": null,
   "metadata": {},
   "outputs": [],
   "source": [
    "## evoked_winpuppy.plot_topomap(ch_type='eeg')"
   ]
  },
  {
   "cell_type": "code",
   "execution_count": null,
   "metadata": {},
   "outputs": [],
   "source": [
    "## evoked_winpuppy.plot_joint(picks='eeg')"
   ]
  },
  {
   "cell_type": "code",
   "execution_count": null,
   "metadata": {},
   "outputs": [],
   "source": [
    "## mne.viz.plot_compare_evokeds([evoked_winpuppy, evoked_losepuppy,\n",
    "                              ## evoked_winalcohol, evoked_losealcohol], picks='eeg',\n",
    "                              ## overwrite=True)"
   ]
  },
  {
   "cell_type": "markdown",
   "metadata": {},
   "source": [
    "**Saving evoked data**"
   ]
  },
  {
   "cell_type": "code",
   "execution_count": 28,
   "metadata": {},
   "outputs": [],
   "source": [
    "mne.write_evokeds(data_dir + p_id + '-evokeds-ave.fif',\n",
    "                  evoked=[evoked_winpuppy, evoked_losepuppy,\n",
    "                              evoked_winalcohol, evoked_losealcohol],\n",
    "                              overwrite=True)"
   ]
  },
  {
   "cell_type": "markdown",
   "metadata": {},
   "source": [
    "**Reading evoked data**"
   ]
  },
  {
   "cell_type": "code",
   "execution_count": null,
   "metadata": {},
   "outputs": [],
   "source": [
    "## evokeds = mne.read_evokeds('sub-001/eeg/sub-001-evokeds-ave.fif')\n",
    "## evokeds[0]"
   ]
  },
  {
   "cell_type": "markdown",
   "metadata": {},
   "source": [
    "##### (e) Removing artifacts in EEG data"
   ]
  },
  {
   "cell_type": "markdown",
   "metadata": {},
   "source": [
    "**reload data + epochs**"
   ]
  },
  {
   "cell_type": "code",
   "execution_count": 29,
   "metadata": {},
   "outputs": [],
   "source": [
    "raw = mne.io.read_raw_fif(data_dir + p_id + '-raw.fif', preload=True)"
   ]
  },
  {
   "cell_type": "code",
   "execution_count": 30,
   "metadata": {},
   "outputs": [],
   "source": [
    "epochs = mne.read_epochs(data_dir + p_id + '-epochs-epo.fif')"
   ]
  },
  {
   "cell_type": "code",
   "execution_count": 31,
   "metadata": {},
   "outputs": [
    {
     "data": {
      "text/html": [
       "<table class=\"table table-hover table-striped table-sm table-responsive small\">\n",
       "    <tr>\n",
       "        <th>Number of events</th>\n",
       "        <td>554</td>\n",
       "    </tr>\n",
       "    <tr>\n",
       "        <th>Events</th>\n",
       "        \n",
       "        <td>After task: 13<br/>Alcohol image: 80<br/>Before task: 21<br/>Between trials: 40<br/>FB: LOSE ALCOHOL: 48<br/>FB: LOSE PUPPY: 43<br/>FB: WIN ALCOHOL: 32<br/>FB: WIN PUPPY: 37<br/>Left Button: 131<br/>Puppy image: 80<br/>Right Button: 29<br/>STATUS: 0</td>\n",
       "        \n",
       "    </tr>\n",
       "    <tr>\n",
       "        <th>Time range</th>\n",
       "        <td>-2.000 – 6.000 s</td>\n",
       "    </tr>\n",
       "    <tr>\n",
       "        <th>Baseline</th>\n",
       "        <td>-0.200 – 0.000 s</td>\n",
       "    </tr>\n",
       "</table>"
      ],
      "text/plain": [
       "<Epochs |  554 events (all good), -2 – 6 s, baseline -0.2 – 0 s, ~1.09 GB, data loaded,\n",
       " 'Left Button': 131\n",
       " 'Between trials': 40\n",
       " 'Right Button': 29\n",
       " 'FB: WIN PUPPY': 37\n",
       " 'FB: LOSE PUPPY': 43\n",
       " 'FB: WIN ALCOHOL': 32\n",
       " 'FB: LOSE ALCOHOL': 48\n",
       " 'After task': 13\n",
       " 'Before task': 21\n",
       " 'Puppy image': 80\n",
       " and 2 more events ...>"
      ]
     },
     "execution_count": 31,
     "metadata": {},
     "output_type": "execute_result"
    }
   ],
   "source": [
    "tmin = -2.0\n",
    "tmax = 6.0\n",
    "baseline = (-0.2, 0)\n",
    "\n",
    "epochs_raw = mne.Epochs(raw,\n",
    "                    events=events,\n",
    "                    event_id=event_id,\n",
    "                    tmin=tmin,\n",
    "                    tmax=tmax,\n",
    "                    baseline=baseline,\n",
    "                    preload=True)\n",
    "epochs_raw"
   ]
  },
  {
   "cell_type": "code",
   "execution_count": 32,
   "metadata": {},
   "outputs": [],
   "source": [
    "epochs_raw.save(data_dir + p_id + '-epochs-raw-epo.fif', overwrite=True)"
   ]
  },
  {
   "cell_type": "markdown",
   "metadata": {},
   "source": [
    "**Identify EOG and ECG artifacts**\n",
    "filter data for ICA by adjusting high-pass cutoff to 1.0Hz"
   ]
  },
  {
   "cell_type": "code",
   "execution_count": 33,
   "metadata": {},
   "outputs": [],
   "source": [
    "raw_ica = raw.copy().filter(l_freq=1.0, h_freq=20)"
   ]
  },
  {
   "cell_type": "markdown",
   "metadata": {},
   "source": [
    "**segment raw data into epochs for ICA**"
   ]
  },
  {
   "cell_type": "code",
   "execution_count": 34,
   "metadata": {},
   "outputs": [
    {
     "data": {
      "text/plain": [
       "array([  1,   2,   3,   4,   5,   6,   7,   8,   9,  10,  11,  12,  13,\n",
       "        14,  15,  16,  17,  18,  19,  20,  21,  22,  23,  24,  25,  27,\n",
       "        28,  29,  31,  32,  33,  34,  35,  36,  37,  38,  39,  40,  41,\n",
       "        43,  44,  45,  47,  48,  49,  50,  51,  52,  53,  54,  55,  56,\n",
       "        57,  59,  60,  61,  63,  64,  65,  67,  68,  69,  71,  72,  73,\n",
       "        74,  75,  76,  77,  79,  80,  81,  83,  84,  85,  87,  88,  89,\n",
       "        91,  92,  93,  94,  95,  96,  97,  99, 100, 101, 103, 104, 105,\n",
       "       107, 108, 109, 111, 112, 113, 115, 116, 117, 119, 120, 121, 123,\n",
       "       124, 125, 126, 127, 128, 129, 131, 132, 133, 135, 136, 137, 139,\n",
       "       140, 141, 143, 144, 145, 146, 147, 148, 149, 151, 152, 153, 155,\n",
       "       156, 157, 159, 160, 161, 162, 163, 164, 165, 166, 167, 168, 169,\n",
       "       171, 172, 173, 175, 176, 177, 179, 180, 181, 182, 183, 184, 185,\n",
       "       186, 187, 188, 189, 190, 191, 192, 193, 194, 195, 196, 197, 199,\n",
       "       200, 201, 203, 204, 205, 207, 208, 209, 211, 212, 213, 215, 216,\n",
       "       217, 219, 220, 221, 223, 224, 225, 226, 227, 228, 229, 231, 232,\n",
       "       233, 235, 236, 237, 239, 240, 241, 243, 244, 245, 247, 248, 249,\n",
       "       251, 252, 253, 255, 256, 257, 258, 259, 260, 261, 263, 264, 265,\n",
       "       267, 268, 269, 271, 272, 273, 275, 276, 277, 279, 280, 281, 282,\n",
       "       283, 284, 285, 287, 288, 289, 291, 292, 293, 295, 296, 297, 299,\n",
       "       300, 301, 303, 304, 305, 307, 308, 309, 310, 311, 312, 313, 315,\n",
       "       316, 317, 318, 319, 320, 321, 322, 323, 324, 325, 326, 327, 328,\n",
       "       329, 331, 332, 333, 335, 336, 337, 338, 339, 340, 341, 342, 343,\n",
       "       344, 345, 347, 348, 349, 350, 351, 352, 353, 355, 356, 357, 359,\n",
       "       360, 361, 363, 364, 365, 366, 367, 368, 369, 371, 372, 373, 375,\n",
       "       376, 377, 379, 380, 381, 383, 384, 385, 387, 388, 389, 391, 392,\n",
       "       393, 395, 396, 397, 399, 400, 401, 402, 403, 404, 405, 407, 408,\n",
       "       409, 410, 411, 412, 413, 415, 416, 417, 419, 420, 421, 423, 424,\n",
       "       425, 427, 428, 429, 431, 432, 433, 435, 436, 437, 439, 440, 441,\n",
       "       443, 444, 445, 446, 447, 448, 449, 451, 452, 453, 455, 456, 457,\n",
       "       459, 460, 461, 463, 464, 465, 466, 467, 468, 469, 470, 471, 472,\n",
       "       473, 475, 476, 477, 479, 480, 481, 483, 484, 485, 487, 488, 489,\n",
       "       491, 492, 493, 495, 496, 497, 499, 500, 501, 503, 504, 505, 507,\n",
       "       508, 509, 510, 511, 512, 513, 515, 516, 517, 519, 520, 521, 522,\n",
       "       523, 524, 525, 527, 528, 529, 530, 531, 532, 533, 535, 536, 537,\n",
       "       538, 539, 540, 541, 543, 544, 545, 547, 548, 549, 551, 552, 553,\n",
       "       555, 556, 557, 559, 560, 561, 563, 564, 565, 567, 568, 569, 571,\n",
       "       572, 573, 575, 576, 577, 579, 580, 581, 582, 583, 584, 585, 587,\n",
       "       588, 589, 591, 592, 593, 595, 596, 597, 599, 600, 601, 602, 603,\n",
       "       604, 605, 607, 608, 609, 611, 612, 613, 615, 616, 617, 619, 620,\n",
       "       621, 623, 624, 625, 627, 628, 629, 630, 631, 632, 633, 635, 636,\n",
       "       637, 639, 640, 641, 643, 644, 645, 647, 648, 649, 650, 651, 652,\n",
       "       653, 654, 655, 656, 657, 659, 660, 661, 670, 677, 678, 681, 688,\n",
       "       689, 690, 692, 693, 695, 696, 697, 698])"
      ]
     },
     "execution_count": 34,
     "metadata": {},
     "output_type": "execute_result"
    }
   ],
   "source": [
    "epochs_raw_selection = epochs_raw.selection\n",
    "epochs_raw_selection"
   ]
  },
  {
   "cell_type": "code",
   "execution_count": 35,
   "metadata": {},
   "outputs": [],
   "source": [
    "events, event_id = mne.events_from_annotations(raw_ica)\n",
    "events = events[epochs_raw_selection]"
   ]
  },
  {
   "cell_type": "code",
   "execution_count": 36,
   "metadata": {},
   "outputs": [],
   "source": [
    "tmin=-2.0\n",
    "tmax=6.0\n",
    "baseline=(-0.2, 0)\n",
    "\n",
    "epochs_ica = mne.Epochs(raw_ica,\n",
    "                        events=events,\n",
    "                        event_id=event_id,\n",
    "                        tmin=tmin,\n",
    "                        tmax=tmax,\n",
    "                        baseline=baseline,\n",
    "                        preload=True, on_missing='ignore')"
   ]
  },
  {
   "cell_type": "markdown",
   "metadata": {},
   "source": [
    "**run ICA on data**"
   ]
  },
  {
   "cell_type": "code",
   "execution_count": 37,
   "metadata": {},
   "outputs": [
    {
     "data": {
      "text/html": [
       "<details open>\n",
       "    <summary><strong>General</strong></summary>\n",
       "    <table class=\"table table-hover table-striped table-sm table-responsive small\">\n",
       "        <tr>\n",
       "            <th>Measurement date</th>\n",
       "            \n",
       "            <td>Unknown</td>\n",
       "            \n",
       "        </tr>\n",
       "        <tr>\n",
       "            <th>Experimenter</th>\n",
       "            \n",
       "            <td>Unknown</td>\n",
       "            \n",
       "        </tr>\n",
       "        <tr>\n",
       "            <th>Participant</th>\n",
       "            \n",
       "            <td>Unknown</td>\n",
       "            \n",
       "        </tr>\n",
       "    </table>\n",
       "    </details>\n",
       "    <details open>\n",
       "        <summary><strong>Channels</strong></summary>\n",
       "        <table class=\"table table-hover table-striped table-sm table-responsive small\">\n",
       "            <tr>\n",
       "                <th>Digitized points</th>\n",
       "                \n",
       "                <td>64 points</td>\n",
       "                \n",
       "            </tr>\n",
       "            <tr>\n",
       "                <th>Good channels</th>\n",
       "                <td>61 EEG, 2 EOG, 2 misc, 1 ECG</td>\n",
       "            </tr>\n",
       "            <tr>\n",
       "                <th>Bad channels</th>\n",
       "                <td>None</td>\n",
       "            </tr>\n",
       "            <tr>\n",
       "                <th>EOG channels</th>\n",
       "                <td>Below Eye, Above Eye</td>\n",
       "            </tr>\n",
       "            <tr>\n",
       "                <th>ECG channels</th>\n",
       "                <td>EKG</td>\n",
       "            </tr>\n",
       "        </table>\n",
       "        </details>\n",
       "        <details open>\n",
       "            <summary><strong>Data</strong></summary>\n",
       "            <table class=\"table table-hover table-striped table-sm table-responsive small\">\n",
       "                \n",
       "                <tr>\n",
       "                    <th>Sampling frequency</th>\n",
       "                    <td>500.00 Hz</td>\n",
       "                </tr>\n",
       "                \n",
       "                \n",
       "                <tr>\n",
       "                    <th>Highpass</th>\n",
       "                    <td>1.00 Hz</td>\n",
       "                </tr>\n",
       "                \n",
       "                \n",
       "                <tr>\n",
       "                    <th>Lowpass</th>\n",
       "                    <td>20.00 Hz</td>\n",
       "                </tr>\n",
       "                \n",
       "                \n",
       "                \n",
       "                \n",
       "            </table>\n",
       "            </details>"
      ],
      "text/plain": [
       "<Info | 11 non-empty values\n",
       " bads: []\n",
       " ch_names: Fp1, Fz, F3, F7, Below Eye, FC5, FC1, C3, T7, TP9, CP5, CP1, Pz, ...\n",
       " chs: 61 EEG, 2 EOG, 2 misc, 1 ECG\n",
       " custom_ref_applied: False\n",
       " dig: 64 items (3 Cardinal, 61 EEG)\n",
       " file_id: 4 items (dict)\n",
       " highpass: 1.0 Hz\n",
       " line_freq: 60.0\n",
       " lowpass: 20.0 Hz\n",
       " meas_date: unspecified\n",
       " meas_id: 4 items (dict)\n",
       " nchan: 66\n",
       " projs: []\n",
       " sfreq: 500.0 Hz\n",
       ">"
      ]
     },
     "execution_count": 37,
     "metadata": {},
     "output_type": "execute_result"
    }
   ],
   "source": [
    "epochs_ica.info"
   ]
  },
  {
   "cell_type": "code",
   "execution_count": 38,
   "metadata": {},
   "outputs": [
    {
     "name": "stderr",
     "output_type": "stream",
     "text": [
      "/var/folders/sf/ns35g2p52qn763j7_gtvn4z00000gn/T/ipykernel_52717/2371070891.py:8: RuntimeWarning: The epochs you passed to ICA.fit() were baseline-corrected. However, we suggest to fit ICA only on data that has been high-pass filtered, but NOT baseline-corrected.\n",
      "  ica.fit(epochs_ica)\n"
     ]
    },
    {
     "data": {
      "text/html": [
       "<table class=\"table table-hover table-striped table-sm table-responsive small\">\n",
       "    <tr>\n",
       "        <th>Method</th>\n",
       "        <td>fastica</td>\n",
       "    </tr>\n",
       "    <tr>\n",
       "        <th>Fit parameters</th>\n",
       "        <td>algorithm=parallel<br />fun=logcosh<br />fun_args=None<br />max_iter=1000<br /></td>\n",
       "    </tr>\n",
       "    <tr>\n",
       "        <th>Fit</th>\n",
       "        <td>31 iterations on epochs (2216554 samples)</td>\n",
       "    </tr>\n",
       "    \n",
       "    <tr>\n",
       "        <th>ICA components</th>\n",
       "        <td>15</td>\n",
       "    </tr>\n",
       "    <tr>\n",
       "        <th>Available PCA components</th>\n",
       "        <td>61</td>\n",
       "    </tr>\n",
       "    <tr>\n",
       "        <th>Channel types</th>\n",
       "        <td>eeg</td>\n",
       "    </tr>\n",
       "    <tr>\n",
       "        <th>ICA components marked for exclusion</th>\n",
       "        <td>&mdash;</td>\n",
       "    </tr>\n",
       "    \n",
       "</table>"
      ],
      "text/plain": [
       "<ICA | epochs decomposition, method: fastica (fit in 31 iterations on 2216554 samples), 15 ICA components (61 PCA components available), channel types: eeg, no sources marked for exclusion>"
      ]
     },
     "execution_count": 38,
     "metadata": {},
     "output_type": "execute_result"
    }
   ],
   "source": [
    "# ICA parameters\n",
    "random_state = 42\n",
    "n_components = 0.99\n",
    "\n",
    "# fit ICA\n",
    "ica = mne.preprocessing.ICA(n_components=n_components,\n",
    "                            random_state = random_state)\n",
    "ica.fit(epochs_ica)"
   ]
  },
  {
   "cell_type": "markdown",
   "metadata": {},
   "source": [
    "**visualise ICA components**"
   ]
  },
  {
   "cell_type": "code",
   "execution_count": null,
   "metadata": {},
   "outputs": [],
   "source": [
    "## ica.plot_components(inst=epochs)"
   ]
  },
  {
   "cell_type": "markdown",
   "metadata": {},
   "source": [
    "**detect ECG and EOG patterns**"
   ]
  },
  {
   "cell_type": "code",
   "execution_count": 39,
   "metadata": {},
   "outputs": [],
   "source": [
    "ecg_epochs = mne.preprocessing.create_ecg_epochs(raw, reject=None,\n",
    "                                                 baseline=(None, -0.2),\n",
    "                                                 tmin=-0.5, tmax=0.5)\n",
    "ecg_evoked = ecg_epochs.average()\n",
    "ecg_inds, ecg_scores = ica.find_bads_ecg(\n",
    "    ecg_epochs, method='ctps')\n",
    "\n",
    "eog_epochs = mne.preprocessing.create_eog_epochs(raw, reject=None,\n",
    "                                                 baseline=(None, -0.2),\n",
    "                                                 tmin=-0.5, tmax=0.5)\n",
    "eog_evoked = eog_epochs.average()\n",
    "eog_inds, eog_scores = ica.find_bads_eog(\n",
    "    eog_epochs)\n",
    "\n",
    "components_to_exclude = eog_inds\n",
    "ica.exclude = components_to_exclude"
   ]
  },
  {
   "cell_type": "markdown",
   "metadata": {},
   "source": [
    "**Plot ICA results**"
   ]
  },
  {
   "cell_type": "markdown",
   "metadata": {},
   "source": [
    "plot automated artifact detection scores"
   ]
  },
  {
   "cell_type": "code",
   "execution_count": null,
   "metadata": {},
   "outputs": [],
   "source": [
    "## ica.plot_scores(eog_scores)"
   ]
  },
  {
   "cell_type": "markdown",
   "metadata": {},
   "source": [
    "plot ICA sources"
   ]
  },
  {
   "cell_type": "code",
   "execution_count": null,
   "metadata": {},
   "outputs": [],
   "source": [
    "## ica.plot_sources(eog_evoked)"
   ]
  },
  {
   "cell_type": "markdown",
   "metadata": {},
   "source": [
    "plot overlay of original and cleaned data"
   ]
  },
  {
   "cell_type": "code",
   "execution_count": null,
   "metadata": {},
   "outputs": [],
   "source": [
    "## ica.plot_overlay(eog_evoked)"
   ]
  },
  {
   "cell_type": "code",
   "execution_count": 40,
   "metadata": {},
   "outputs": [
    {
     "data": {
      "text/plain": [
       "[]"
      ]
     },
     "execution_count": 40,
     "metadata": {},
     "output_type": "execute_result"
    }
   ],
   "source": [
    "ica.exclude"
   ]
  },
  {
   "cell_type": "code",
   "execution_count": 41,
   "metadata": {},
   "outputs": [
    {
     "name": "stderr",
     "output_type": "stream",
     "text": [
      "/var/folders/sf/ns35g2p52qn763j7_gtvn4z00000gn/T/ipykernel_52717/1468588309.py:1: RuntimeWarning: The data you passed to ICA.apply() was baseline-corrected. Please note that ICA can introduce DC shifts, therefore you may wish to consider baseline-correcting the cleaned data again.\n",
      "  epochs_cleaned = ica.apply(epochs.copy())\n"
     ]
    }
   ],
   "source": [
    "epochs_cleaned = ica.apply(epochs.copy())"
   ]
  },
  {
   "cell_type": "code",
   "execution_count": null,
   "metadata": {},
   "outputs": [],
   "source": [
    "## epochs_cleaned.plot(title='After ICA')"
   ]
  },
  {
   "cell_type": "code",
   "execution_count": 42,
   "metadata": {},
   "outputs": [
    {
     "name": "stderr",
     "output_type": "stream",
     "text": [
      "/var/folders/sf/ns35g2p52qn763j7_gtvn4z00000gn/T/ipykernel_52717/386101422.py:1: RuntimeWarning: This filename (sub-001/eeg/sub-001-cleaned-ica.fif) does not conform to MNE naming conventions. All epochs files should end with -epo.fif, -epo.fif.gz, _epo.fif or _epo.fif.gz\n",
      "  epochs_cleaned.save(data_dir + p_id + '-cleaned-ica.fif', overwrite=True)\n"
     ]
    }
   ],
   "source": [
    "epochs_cleaned.save(data_dir + p_id + '-cleaned-ica.fif', overwrite=True)"
   ]
  },
  {
   "cell_type": "markdown",
   "metadata": {},
   "source": [
    "##### (f) Averaging and re-referencing"
   ]
  },
  {
   "cell_type": "code",
   "execution_count": 43,
   "metadata": {},
   "outputs": [],
   "source": [
    "evoked_winpuppy = epochs_cleaned['FB: WIN PUPPY'].average()\n",
    "evoked_losepuppy = epochs_cleaned['FB: LOSE PUPPY'].average()\n",
    "evoked_winalcohol = epochs_cleaned['FB: WIN ALCOHOL'].average()\n",
    "evoked_losealcohol = epochs_cleaned['FB: LOSE ALCOHOL'].average()"
   ]
  },
  {
   "cell_type": "code",
   "execution_count": null,
   "metadata": {},
   "outputs": [],
   "source": [
    "## evoked_winpuppy.plot(spatial_colors=True)"
   ]
  },
  {
   "cell_type": "code",
   "execution_count": null,
   "metadata": {},
   "outputs": [],
   "source": [
    "## evoked_winpuppy.plot_topomap(ch_type='eeg')"
   ]
  },
  {
   "cell_type": "code",
   "execution_count": null,
   "metadata": {},
   "outputs": [],
   "source": [
    "## evoked_winpuppy.plot_joint(picks='eeg')"
   ]
  },
  {
   "cell_type": "code",
   "execution_count": null,
   "metadata": {},
   "outputs": [],
   "source": [
    "# define the channels we want plots for\n",
    "## channels = ['Fz', 'Cz', 'Pz', 'Oz']\n",
    "\n",
    "# create a figure with 4 subplots\n",
    "## fig, axes = plt.subplots(2, 2, figsize=(8, 8))\n",
    "\n",
    "# plot each channel in a separate subplot\n",
    "## for idx, chan in enumerate(channels):\n",
    "    ## mne.viz.plot_compare_evokeds(evokeds, \n",
    "                                ## picks=chan,\n",
    "                                ## ylim={'eeg':(-10, 10)},\n",
    "                                ## show_sensors='lower right',\n",
    "                                ## legend='upper center',\n",
    "                                ## axes=axes.reshape(-1)[idx],\n",
    "                                ## show=False\n",
    "                                ## );\n",
    "## plt.show()    "
   ]
  },
  {
   "cell_type": "markdown",
   "metadata": {},
   "source": [
    "**Computing average reference**"
   ]
  },
  {
   "cell_type": "code",
   "execution_count": 44,
   "metadata": {},
   "outputs": [],
   "source": [
    "evokeds_avgref_Wpuppy = evoked_winpuppy.copy().set_eeg_reference(ref_channels='average')\n",
    "evokeds_avgref_Lpuppy = evoked_losepuppy.copy().set_eeg_reference(ref_channels='average')\n",
    "evokeds_avgref_Walcohol = evoked_winalcohol.copy().set_eeg_reference(ref_channels='average')\n",
    "evokeds_avgref_Lalcohol = evoked_losealcohol.copy().set_eeg_reference(ref_channels='average')"
   ]
  },
  {
   "cell_type": "code",
   "execution_count": null,
   "metadata": {},
   "outputs": [],
   "source": [
    "## mne.viz.plot_compare_evokeds([evoked_winpuppy, evoked_losepuppy,\n",
    "                              ## evoked_winalcohol, evoked_losealcohol], picks='eeg');"
   ]
  },
  {
   "cell_type": "markdown",
   "metadata": {},
   "source": [
    "**Re-reference data to averaged mastoids**"
   ]
  },
  {
   "cell_type": "code",
   "execution_count": 45,
   "metadata": {},
   "outputs": [],
   "source": [
    "evokeds_mastoidref_Wpuppy = evokeds_avgref_Wpuppy.copy().set_eeg_reference(ref_channels=['TP9', 'TP10'])\n",
    "evokeds_mastoidref_Lpuppy = evokeds_avgref_Lpuppy.copy().set_eeg_reference(ref_channels=['TP9', 'TP10'])\n",
    "evokeds_mastoidref_Walcohol = evokeds_avgref_Walcohol.copy().set_eeg_reference(ref_channels=['TP9', 'TP10'])\n",
    "evokeds_mastoidref_Lalcohol = evokeds_avgref_Lalcohol.copy().set_eeg_reference(ref_channels=['TP9', 'TP10'])"
   ]
  },
  {
   "cell_type": "markdown",
   "metadata": {},
   "source": [
    "**Saving evoked data**"
   ]
  },
  {
   "cell_type": "code",
   "execution_count": 46,
   "metadata": {},
   "outputs": [],
   "source": [
    "mne.write_evokeds(data_dir + p_id + '-refevokeds-ave.fif',\n",
    "                  evoked=[evokeds_mastoidref_Wpuppy, evokeds_mastoidref_Lpuppy,\n",
    "                              evokeds_mastoidref_Walcohol, evokeds_mastoidref_Lalcohol],\n",
    "                              overwrite=True)"
   ]
  },
  {
   "cell_type": "markdown",
   "metadata": {},
   "source": [
    "### Part D: Visualisation of Pilot data"
   ]
  },
  {
   "cell_type": "markdown",
   "metadata": {},
   "source": [
    "**Load epochs**"
   ]
  },
  {
   "cell_type": "code",
   "execution_count": 47,
   "metadata": {},
   "outputs": [
    {
     "data": {
      "text/plain": [
       "<Figure size 640x300 with 2 Axes>"
      ]
     },
     "execution_count": 47,
     "metadata": {},
     "output_type": "execute_result"
    }
   ],
   "source": [
    "evoked_W_diff = mne.combine_evoked(\n",
    "    [evokeds_mastoidref_Walcohol, evokeds_mastoidref_Wpuppy],\n",
    "    weights=[1, -1] # subtraction\n",
    ")\n",
    "\n",
    "evoked_W_diff.plot(gfp=True)\n",
    "## mne.viz.plot_compare_evokeds(\n",
    "    ## [evokeds_mastoidref_Walcohol,\n",
    "    ## evokeds_mastoidref_Wpuppy,\n",
    "    ## evoked_W_diff]\n",
    "## )"
   ]
  },
  {
   "cell_type": "markdown",
   "metadata": {},
   "source": [
    "**Calculating mean amplitude**"
   ]
  },
  {
   "cell_type": "markdown",
   "metadata": {},
   "source": [
    "for WIN ALCOHOL"
   ]
  },
  {
   "cell_type": "code",
   "execution_count": 53,
   "metadata": {},
   "outputs": [
    {
     "name": "stdout",
     "output_type": "stream",
     "text": [
      "[3.54515454]\n"
     ]
    }
   ],
   "source": [
    "# Select all of the channels and crop to the time window\n",
    "channel = ['Cz']\n",
    "Walcohol_roi = evokeds_mastoidref_Walcohol.copy().pick(channel).crop(\n",
    "    tmin=0.2, tmax=0.4)\n",
    "\n",
    "# Extract mean amplitude in µV over time\n",
    "mean_amp_Walcohol_roi = Walcohol_roi.data.mean(axis=1) * 1e6\n",
    "\n",
    "# Print the mean amplitude\n",
    "print(mean_amp_Walcohol_roi)"
   ]
  },
  {
   "cell_type": "markdown",
   "metadata": {},
   "source": [
    "for LOSE ALCOHOL:"
   ]
  },
  {
   "cell_type": "code",
   "execution_count": 49,
   "metadata": {},
   "outputs": [
    {
     "name": "stdout",
     "output_type": "stream",
     "text": [
      "[6.16567621]\n"
     ]
    }
   ],
   "source": [
    "# Select all of the channels and crop to the time window\n",
    "channel = ['Cz']\n",
    "Lalcohol_roi = evokeds_mastoidref_Lalcohol.copy().pick(channel).crop(\n",
    "    tmin=0.2, tmax=0.4)\n",
    "\n",
    "# Extract mean amplitude in µV over time\n",
    "mean_amp_Lalcohol_roi = Lalcohol_roi.data.mean(axis=1) * 1e6\n",
    "\n",
    "# Print the mean amplitude\n",
    "print(mean_amp_Lalcohol_roi)"
   ]
  },
  {
   "cell_type": "markdown",
   "metadata": {},
   "source": [
    "for WIN PUPPY:"
   ]
  },
  {
   "cell_type": "code",
   "execution_count": 52,
   "metadata": {},
   "outputs": [
    {
     "name": "stdout",
     "output_type": "stream",
     "text": [
      "[-6.81830594]\n"
     ]
    }
   ],
   "source": [
    "# Select all of the channels and crop to the time window\n",
    "channel = ['Cz']\n",
    "Wpuppy_roi = evokeds_mastoidref_Wpuppy.copy().pick(channel).crop(\n",
    "    tmin=0.2, tmax=0.4)\n",
    "\n",
    "# Extract mean amplitude in µV over time\n",
    "mean_amp_Wpuppy_roi = Wpuppy_roi.data.mean(axis=1) * 1e6\n",
    "\n",
    "# Print the mean amplitude\n",
    "print(mean_amp_Wpuppy_roi)"
   ]
  },
  {
   "cell_type": "markdown",
   "metadata": {},
   "source": [
    "for LOSE PUPPY:"
   ]
  },
  {
   "cell_type": "code",
   "execution_count": 51,
   "metadata": {},
   "outputs": [
    {
     "name": "stdout",
     "output_type": "stream",
     "text": [
      "[14.23866273]\n"
     ]
    }
   ],
   "source": [
    "# Select all of the channels and crop to the time window\n",
    "channel = ['Cz']\n",
    "Lpuppy_roi = evokeds_mastoidref_Lpuppy.copy().pick(channel).crop(\n",
    "    tmin=0.2, tmax=0.4)\n",
    "\n",
    "# Extract mean amplitude in µV over time\n",
    "mean_amp_Lpuppy_roi = Lpuppy_roi.data.mean(axis=1) * 1e6\n",
    "\n",
    "# Print the mean amplitude\n",
    "print(mean_amp_Lpuppy_roi)"
   ]
  }
 ],
 "metadata": {
  "kernelspec": {
   "display_name": "Python 3",
   "language": "python",
   "name": "python3"
  },
  "language_info": {
   "codemirror_mode": {
    "name": "ipython",
    "version": 3
   },
   "file_extension": ".py",
   "mimetype": "text/x-python",
   "name": "python",
   "nbconvert_exporter": "python",
   "pygments_lexer": "ipython3",
   "version": "3.10.1"
  }
 },
 "nbformat": 4,
 "nbformat_minor": 2
}
